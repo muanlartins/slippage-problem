{
  "nbformat": 4,
  "nbformat_minor": 0,
  "metadata": {
    "colab": {
      "provenance": [],
      "authorship_tag": "ABX9TyM7ex5LhOYqXU7jRFOizwEm"
    },
    "kernelspec": {
      "name": "python3",
      "display_name": "Python 3"
    },
    "language_info": {
      "name": "python"
    }
  },
  "cells": [
    {
      "cell_type": "code",
      "source": [
        "from math import sqrt\n",
        "import json\n",
        "import plotly.express as px\n",
        "import pandas as pd\n",
        "from random import randint"
      ],
      "metadata": {
        "id": "xvrQcru4HgdE"
      },
      "execution_count": null,
      "outputs": []
    },
    {
      "cell_type": "code",
      "source": [
        "f = open('slippages.json', 'r')\n",
        "\n",
        "slippages_data = json.loads(f.read())\n",
        "\n",
        "f.close()\n",
        "\n",
        "def calculate_mean(l):\n",
        "  return sum(l)/len(l)"
      ],
      "metadata": {
        "id": "3Q_YRhYgNn1F"
      },
      "execution_count": null,
      "outputs": []
    },
    {
      "cell_type": "code",
      "source": [
        "bid_percentages_means = []\n",
        "ask_percentages_means = []\n",
        "time_sample_range = [t for t in range(1, 61)] + [t for t in range(60,300,5)]\n",
        "\n",
        "for time_sample in time_sample_range:\n",
        "\n",
        "  bid_percentages = []\n",
        "  ask_percentages = []\n",
        "\n",
        "  experiments = 100\n",
        "  attempts = 100\n",
        "\n",
        "  for experiment in range(experiments):\n",
        "\n",
        "    bid_total = 0\n",
        "    ask_total = 0\n",
        "\n",
        "    for attempt in range(attempts):\n",
        "      time_start = randint(1, 1800-time_sample)\n",
        "      time_end = time_start+time_sample\n",
        "\n",
        "      # z necessary for 99% confidence is 2.58\n",
        "      z = 2.58\n",
        "      mean = 0\n",
        "      variance = 0\n",
        "      standard_deviation = 0\n",
        "      bids_slippages = []\n",
        "      asks_slippages = []\n",
        "      data = {}\n",
        "\n",
        "      bids_slippages = slippages_data['bids'][time_start:time_end]\n",
        "      asks_slippages = slippages_data['asks'][time_start:time_end]\n",
        "      \n",
        "      slippages = bids_slippages\n",
        "\n",
        "      mean = sum(slippages)/len(slippages)\n",
        "\n",
        "      for slippage in slippages:\n",
        "        variance += (slippage - mean)**2\n",
        "      \n",
        "      variance /= len(slippages)\n",
        "\n",
        "      standard_deviation = sqrt(variance)\n",
        "\n",
        "      sample_size = len(slippages)\n",
        "\n",
        "      confidence_interval = [mean - z*(standard_deviation)/sqrt(sample_size), mean + z*(standard_deviation)/sqrt(sample_size)]\n",
        "\n",
        "      data['bids'] = {\n",
        "        'mean': mean,\n",
        "        'variance': variance,\n",
        "        'standard_deviation': standard_deviation,\n",
        "        'sample_size': sample_size,\n",
        "        'confidence_interval': confidence_interval\n",
        "      }\n",
        "\n",
        "      slippages = asks_slippages\n",
        "\n",
        "      mean = sum(slippages)/len(slippages)\n",
        "\n",
        "      for slippage in slippages:\n",
        "        variance += (slippage - mean)**2\n",
        "      \n",
        "      variance /= len(slippages)\n",
        "\n",
        "      standard_deviation = sqrt(variance)\n",
        "\n",
        "      sample_size = len(slippages)\n",
        "\n",
        "      confidence_interval = [mean - z*(standard_deviation)/sqrt(sample_size), mean + z*(standard_deviation)/sqrt(sample_size)]\n",
        "\n",
        "      data['asks'] = {\n",
        "        'mean': mean,\n",
        "        'variance': variance,\n",
        "        'standard_deviation': standard_deviation,\n",
        "        'sample_size': sample_size,\n",
        "        'confidence_interval': confidence_interval\n",
        "      }\n",
        "\n",
        "      bid_success = data['bids']['confidence_interval'][0] <= slippages_data['bids'][time_end] <= data['bids']['confidence_interval'][1]\n",
        "      ask_success = data['asks']['confidence_interval'][0] <= slippages_data['asks'][time_end] <= data['asks']['confidence_interval'][1]\n",
        "\n",
        "      if bid_success: bid_total += 1\n",
        "      if ask_success: ask_total += 1\n",
        "\n",
        "    bid_percentages.append(bid_total/attempts)\n",
        "    ask_percentages.append(ask_total/attempts)\n",
        "\n",
        "  bid_percentages_means.append(calculate_mean(bid_percentages))\n",
        "  ask_percentages_means.append(calculate_mean(ask_percentages))\n",
        "\n",
        "print(bid_percentages_means, ask_percentages_means)"
      ],
      "metadata": {
        "colab": {
          "base_uri": "https://localhost:8080/"
        },
        "id": "slwVsYuJHX5p",
        "outputId": "0384be2e-9e0e-4bf2-b21b-3d13ce38e44b"
      },
      "execution_count": null,
      "outputs": [
        {
          "output_type": "stream",
          "name": "stdout",
          "text": [
            "[0.3075, 0.5777, 0.6061999999999999, 0.5227999999999997, 0.4744, 0.4476999999999998, 0.39750000000000013, 0.38349999999999995, 0.37089999999999995, 0.3699000000000001, 0.38239999999999996, 0.3708000000000002, 0.38730000000000003, 0.3798, 0.3820999999999997, 0.40080000000000005, 0.40659999999999996, 0.39419999999999994, 0.3982, 0.39460000000000006, 0.3804999999999998, 0.38400000000000006, 0.3890000000000001, 0.38830000000000003, 0.3991000000000001, 0.3948, 0.40769999999999984, 0.39520000000000005, 0.39650000000000013, 0.38710000000000006, 0.39699999999999996, 0.38910000000000017, 0.3935, 0.4030000000000003, 0.41340000000000027, 0.4083, 0.4227000000000001, 0.4336, 0.43479999999999985, 0.4280000000000001, 0.42899999999999977, 0.434, 0.4256000000000001, 0.4263999999999999, 0.43279999999999974, 0.42639999999999995, 0.42239999999999983, 0.4217000000000001, 0.4255, 0.42060000000000003, 0.4264, 0.4179999999999999, 0.4134, 0.42269999999999996, 0.4246999999999999, 0.4359, 0.43290000000000006, 0.4361999999999998, 0.42649999999999993, 0.42620000000000013, 0.4329, 0.43449999999999994, 0.43849999999999995, 0.42969999999999986, 0.4332000000000001, 0.4268, 0.42820000000000014, 0.42680000000000007, 0.4237, 0.42670000000000013, 0.43499999999999994, 0.4292, 0.4271000000000001, 0.42550000000000004, 0.42459999999999964, 0.41800000000000004, 0.41389999999999977, 0.406, 0.41590000000000005, 0.42249999999999993, 0.4203, 0.4263999999999999, 0.4324000000000001, 0.4455999999999997, 0.4373999999999998, 0.4320000000000001, 0.4313000000000002, 0.43660000000000027, 0.43989999999999996, 0.4367999999999998, 0.43720000000000003, 0.4454999999999998, 0.4406999999999999, 0.4377000000000002, 0.4423, 0.4332000000000001, 0.4298999999999999, 0.44279999999999986, 0.4491999999999999, 0.4342999999999999, 0.44219999999999987, 0.43729999999999997, 0.4375, 0.44949999999999973, 0.44659999999999994, 0.45890000000000014, 0.4360999999999999, 0.4436000000000002] [0.2846, 0.6110000000000002, 0.6432000000000001, 0.5470000000000002, 0.5142999999999999, 0.4600000000000001, 0.42529999999999996, 0.40480000000000016, 0.39129999999999987, 0.3947999999999999, 0.39050000000000007, 0.38109999999999983, 0.3655999999999999, 0.35719999999999996, 0.35600000000000004, 0.35869999999999974, 0.3687, 0.3585999999999999, 0.3628, 0.3651000000000002, 0.3698, 0.37370000000000003, 0.3883999999999999, 0.3923, 0.3787, 0.3831999999999997, 0.38730000000000003, 0.38880000000000015, 0.40240000000000004, 0.4059999999999999, 0.40230000000000005, 0.40260000000000007, 0.40300000000000014, 0.40110000000000007, 0.4144, 0.3995999999999998, 0.3933, 0.4006000000000002, 0.3926, 0.40240000000000004, 0.3893, 0.3979000000000001, 0.3932999999999998, 0.39209999999999995, 0.3904999999999999, 0.3955, 0.3979999999999999, 0.4043999999999999, 0.39459999999999995, 0.38989999999999997, 0.38799999999999996, 0.38170000000000004, 0.4010999999999999, 0.4055999999999999, 0.41599999999999987, 0.405, 0.4103, 0.42219999999999985, 0.4205000000000001, 0.4269999999999999, 0.42660000000000003, 0.42829999999999985, 0.4330000000000001, 0.4154, 0.41809999999999986, 0.426, 0.4192000000000002, 0.4206999999999999, 0.4179999999999998, 0.39819999999999994, 0.41120000000000007, 0.4036, 0.4030999999999999, 0.4021, 0.39189999999999986, 0.40290000000000004, 0.40179999999999993, 0.40679999999999983, 0.4105, 0.4161000000000001, 0.4104, 0.4039, 0.41120000000000007, 0.4056, 0.41370000000000007, 0.4052, 0.40659999999999996, 0.4027999999999998, 0.3997000000000001, 0.40860000000000013, 0.4167999999999997, 0.39820000000000016, 0.40049999999999975, 0.3971, 0.3997, 0.3865999999999999, 0.3872, 0.4012999999999999, 0.3878999999999998, 0.36929999999999985, 0.3717999999999999, 0.37430000000000013, 0.36970000000000014, 0.37799999999999995, 0.3861999999999998, 0.3841000000000001, 0.3832000000000001, 0.3758000000000001]\n"
          ]
        }
      ]
    },
    {
      "cell_type": "code",
      "execution_count": null,
      "metadata": {
        "colab": {
          "base_uri": "https://localhost:8080/",
          "height": 542
        },
        "id": "CBcDUxLn2K3K",
        "outputId": "d6807312-a232-44dd-e1da-d6ff522779d0"
      },
      "outputs": [
        {
          "output_type": "display_data",
          "data": {
            "text/html": [
              "<html>\n",
              "<head><meta charset=\"utf-8\" /></head>\n",
              "<body>\n",
              "    <div>            <script src=\"https://cdnjs.cloudflare.com/ajax/libs/mathjax/2.7.5/MathJax.js?config=TeX-AMS-MML_SVG\"></script><script type=\"text/javascript\">if (window.MathJax && window.MathJax.Hub && window.MathJax.Hub.Config) {window.MathJax.Hub.Config({SVG: {font: \"STIX-Web\"}});}</script>                <script type=\"text/javascript\">window.PlotlyConfig = {MathJaxConfig: 'local'};</script>\n",
              "        <script src=\"https://cdn.plot.ly/plotly-2.18.2.min.js\"></script>                <div id=\"ff5f34c0-96bf-4d36-8680-e6b58c407838\" class=\"plotly-graph-div\" style=\"height:525px; width:100%;\"></div>            <script type=\"text/javascript\">                                    window.PLOTLYENV=window.PLOTLYENV || {};                                    if (document.getElementById(\"ff5f34c0-96bf-4d36-8680-e6b58c407838\")) {                    Plotly.newPlot(                        \"ff5f34c0-96bf-4d36-8680-e6b58c407838\",                        [{\"hovertemplate\":\"side=bid<br>Time (seconds)=%{x}<br>Slippage=%{y}<extra></extra>\",\"legendgroup\":\"bid\",\"line\":{\"color\":\"#636efa\",\"dash\":\"solid\"},\"marker\":{\"symbol\":\"circle\"},\"mode\":\"lines\",\"name\":\"bid\",\"orientation\":\"v\",\"showlegend\":true,\"x\":[1000,1001,1002,1003,1004,1005,1006,1007,1008,1009,1010,1011,1012,1013,1014,1015,1016,1017,1018,1019,1020,1021,1022,1023,1024,1025,1026,1027,1028,1029,1030,1031,1032,1033,1034,1035,1036,1037,1038,1039,1040,1041,1042,1043,1044,1045,1046,1047,1048,1049,1050,1051,1052,1053,1054,1055,1056,1057,1058,1059],\"xaxis\":\"x\",\"y\":[0.022176460002810927,0.0028968999977223575,0.0028968999977223575,0.0028968999977223575,0.0028968999977223575,-0.01927956000508857,0.0,0.0,-0.009176979998301249,0.3807107300053758,0.3807107300053758,0.3807107300053758,2.299970050007687,2.2883857100023306,1.9984980000008363,1.9984980000008363,1.9984980000008363,-0.020761320003657602,0.10000000000218279,-0.10000000000218279,0.0,-0.10000000000218279,0.0,-0.10000000000218279,0.0,-0.10000000000218279,0.0,-0.28073410999786574,-0.28073410999786574,-0.28073410999786574,-0.28073410999786574,-0.28073410999786574,0.0,0.0,0.0,0.0,0.0,0.0,0.0,0.0,0.09999999999854481,-0.05981856000289554,-0.05981856000289554,-0.05981856000289554,-0.05981856000289554,-0.15981856000144035,0.0,0.0,0.0,0.0,0.0,0.0,0.0,0.0,0.0027608000018517487,0.0027608000018517487,0.0425427700029104,-0.04015088999949512,-0.6951888799958397,-0.6979496799976914],\"yaxis\":\"y\",\"type\":\"scatter\"},{\"hovertemplate\":\"side=ask<br>Time (seconds)=%{x}<br>Slippage=%{y}<extra></extra>\",\"legendgroup\":\"ask\",\"line\":{\"color\":\"#EF553B\",\"dash\":\"solid\"},\"marker\":{\"symbol\":\"circle\"},\"mode\":\"lines\",\"name\":\"ask\",\"orientation\":\"v\",\"showlegend\":true,\"x\":[1000,1001,1002,1003,1004,1005,1006,1007,1008,1009,1010,1011,1012,1013,1014,1015,1016,1017,1018,1019,1020,1021,1022,1023,1024,1025,1026,1027,1028,1029,1030,1031,1032,1033,1034,1035,1036,1037,1038,1039,1040,1041,1042,1043,1044,1045,1046,1047,1048,1049,1050,1051,1052,1053,1054,1055,1056,1057,1058,1059],\"xaxis\":\"x\",\"y\":[0.6535310700019181,0.28068908999921405,-0.05597106000277563,-0.05597106000277563,-0.39263121000112733,-0.7354731900013576,-0.4376312099993811,-0.11194740000064485,-0.11194740000064485,0.2247151199990185,0.2247151199990185,0.40071511999849463,2.1986964300012914,2.1986964300012914,1.9180049700007658,1.9180049700007658,1.7870049699995434,-0.049999999995634425,-0.049999999995634425,0.008840570000756998,0.008840570000756998,-0.2749999999978172,-0.2250000000021828,-0.2250000000021828,-0.2838405699985742,-0.24384057000133907,-0.2000000000007276,-0.5307171200001903,-0.5307171200001903,-0.5307171200001903,-0.3707171199966979,-0.33071711999946274,0.0,0.2000000000007276,0.0,-0.2000000000007276,0.0,0.0,-0.2000000000007276,0.2000000000007276,0.2000000000007276,0.2000000000007276,0.2000000000007276,0.2000000000007276,0.0,-0.010975949997373391,-0.010975949997373391,-0.010975949997373391,-0.010975949997373391,-0.21097595000173897,-0.20000000000436557,-0.20000000000436557,-0.20000000000436557,-0.20000000000436557,0.20000000000436557,0.20000000000436557,0.20000000000436557,0.20000000000436557,-0.28070214000035776,-0.48070214000472333],\"yaxis\":\"y\",\"type\":\"scatter\"}],                        {\"template\":{\"data\":{\"histogram2dcontour\":[{\"type\":\"histogram2dcontour\",\"colorbar\":{\"outlinewidth\":0,\"ticks\":\"\"},\"colorscale\":[[0.0,\"#0d0887\"],[0.1111111111111111,\"#46039f\"],[0.2222222222222222,\"#7201a8\"],[0.3333333333333333,\"#9c179e\"],[0.4444444444444444,\"#bd3786\"],[0.5555555555555556,\"#d8576b\"],[0.6666666666666666,\"#ed7953\"],[0.7777777777777778,\"#fb9f3a\"],[0.8888888888888888,\"#fdca26\"],[1.0,\"#f0f921\"]]}],\"choropleth\":[{\"type\":\"choropleth\",\"colorbar\":{\"outlinewidth\":0,\"ticks\":\"\"}}],\"histogram2d\":[{\"type\":\"histogram2d\",\"colorbar\":{\"outlinewidth\":0,\"ticks\":\"\"},\"colorscale\":[[0.0,\"#0d0887\"],[0.1111111111111111,\"#46039f\"],[0.2222222222222222,\"#7201a8\"],[0.3333333333333333,\"#9c179e\"],[0.4444444444444444,\"#bd3786\"],[0.5555555555555556,\"#d8576b\"],[0.6666666666666666,\"#ed7953\"],[0.7777777777777778,\"#fb9f3a\"],[0.8888888888888888,\"#fdca26\"],[1.0,\"#f0f921\"]]}],\"heatmap\":[{\"type\":\"heatmap\",\"colorbar\":{\"outlinewidth\":0,\"ticks\":\"\"},\"colorscale\":[[0.0,\"#0d0887\"],[0.1111111111111111,\"#46039f\"],[0.2222222222222222,\"#7201a8\"],[0.3333333333333333,\"#9c179e\"],[0.4444444444444444,\"#bd3786\"],[0.5555555555555556,\"#d8576b\"],[0.6666666666666666,\"#ed7953\"],[0.7777777777777778,\"#fb9f3a\"],[0.8888888888888888,\"#fdca26\"],[1.0,\"#f0f921\"]]}],\"heatmapgl\":[{\"type\":\"heatmapgl\",\"colorbar\":{\"outlinewidth\":0,\"ticks\":\"\"},\"colorscale\":[[0.0,\"#0d0887\"],[0.1111111111111111,\"#46039f\"],[0.2222222222222222,\"#7201a8\"],[0.3333333333333333,\"#9c179e\"],[0.4444444444444444,\"#bd3786\"],[0.5555555555555556,\"#d8576b\"],[0.6666666666666666,\"#ed7953\"],[0.7777777777777778,\"#fb9f3a\"],[0.8888888888888888,\"#fdca26\"],[1.0,\"#f0f921\"]]}],\"contourcarpet\":[{\"type\":\"contourcarpet\",\"colorbar\":{\"outlinewidth\":0,\"ticks\":\"\"}}],\"contour\":[{\"type\":\"contour\",\"colorbar\":{\"outlinewidth\":0,\"ticks\":\"\"},\"colorscale\":[[0.0,\"#0d0887\"],[0.1111111111111111,\"#46039f\"],[0.2222222222222222,\"#7201a8\"],[0.3333333333333333,\"#9c179e\"],[0.4444444444444444,\"#bd3786\"],[0.5555555555555556,\"#d8576b\"],[0.6666666666666666,\"#ed7953\"],[0.7777777777777778,\"#fb9f3a\"],[0.8888888888888888,\"#fdca26\"],[1.0,\"#f0f921\"]]}],\"surface\":[{\"type\":\"surface\",\"colorbar\":{\"outlinewidth\":0,\"ticks\":\"\"},\"colorscale\":[[0.0,\"#0d0887\"],[0.1111111111111111,\"#46039f\"],[0.2222222222222222,\"#7201a8\"],[0.3333333333333333,\"#9c179e\"],[0.4444444444444444,\"#bd3786\"],[0.5555555555555556,\"#d8576b\"],[0.6666666666666666,\"#ed7953\"],[0.7777777777777778,\"#fb9f3a\"],[0.8888888888888888,\"#fdca26\"],[1.0,\"#f0f921\"]]}],\"mesh3d\":[{\"type\":\"mesh3d\",\"colorbar\":{\"outlinewidth\":0,\"ticks\":\"\"}}],\"scatter\":[{\"fillpattern\":{\"fillmode\":\"overlay\",\"size\":10,\"solidity\":0.2},\"type\":\"scatter\"}],\"parcoords\":[{\"type\":\"parcoords\",\"line\":{\"colorbar\":{\"outlinewidth\":0,\"ticks\":\"\"}}}],\"scatterpolargl\":[{\"type\":\"scatterpolargl\",\"marker\":{\"colorbar\":{\"outlinewidth\":0,\"ticks\":\"\"}}}],\"bar\":[{\"error_x\":{\"color\":\"#2a3f5f\"},\"error_y\":{\"color\":\"#2a3f5f\"},\"marker\":{\"line\":{\"color\":\"#E5ECF6\",\"width\":0.5},\"pattern\":{\"fillmode\":\"overlay\",\"size\":10,\"solidity\":0.2}},\"type\":\"bar\"}],\"scattergeo\":[{\"type\":\"scattergeo\",\"marker\":{\"colorbar\":{\"outlinewidth\":0,\"ticks\":\"\"}}}],\"scatterpolar\":[{\"type\":\"scatterpolar\",\"marker\":{\"colorbar\":{\"outlinewidth\":0,\"ticks\":\"\"}}}],\"histogram\":[{\"marker\":{\"pattern\":{\"fillmode\":\"overlay\",\"size\":10,\"solidity\":0.2}},\"type\":\"histogram\"}],\"scattergl\":[{\"type\":\"scattergl\",\"marker\":{\"colorbar\":{\"outlinewidth\":0,\"ticks\":\"\"}}}],\"scatter3d\":[{\"type\":\"scatter3d\",\"line\":{\"colorbar\":{\"outlinewidth\":0,\"ticks\":\"\"}},\"marker\":{\"colorbar\":{\"outlinewidth\":0,\"ticks\":\"\"}}}],\"scattermapbox\":[{\"type\":\"scattermapbox\",\"marker\":{\"colorbar\":{\"outlinewidth\":0,\"ticks\":\"\"}}}],\"scatterternary\":[{\"type\":\"scatterternary\",\"marker\":{\"colorbar\":{\"outlinewidth\":0,\"ticks\":\"\"}}}],\"scattercarpet\":[{\"type\":\"scattercarpet\",\"marker\":{\"colorbar\":{\"outlinewidth\":0,\"ticks\":\"\"}}}],\"carpet\":[{\"aaxis\":{\"endlinecolor\":\"#2a3f5f\",\"gridcolor\":\"white\",\"linecolor\":\"white\",\"minorgridcolor\":\"white\",\"startlinecolor\":\"#2a3f5f\"},\"baxis\":{\"endlinecolor\":\"#2a3f5f\",\"gridcolor\":\"white\",\"linecolor\":\"white\",\"minorgridcolor\":\"white\",\"startlinecolor\":\"#2a3f5f\"},\"type\":\"carpet\"}],\"table\":[{\"cells\":{\"fill\":{\"color\":\"#EBF0F8\"},\"line\":{\"color\":\"white\"}},\"header\":{\"fill\":{\"color\":\"#C8D4E3\"},\"line\":{\"color\":\"white\"}},\"type\":\"table\"}],\"barpolar\":[{\"marker\":{\"line\":{\"color\":\"#E5ECF6\",\"width\":0.5},\"pattern\":{\"fillmode\":\"overlay\",\"size\":10,\"solidity\":0.2}},\"type\":\"barpolar\"}],\"pie\":[{\"automargin\":true,\"type\":\"pie\"}]},\"layout\":{\"autotypenumbers\":\"strict\",\"colorway\":[\"#636efa\",\"#EF553B\",\"#00cc96\",\"#ab63fa\",\"#FFA15A\",\"#19d3f3\",\"#FF6692\",\"#B6E880\",\"#FF97FF\",\"#FECB52\"],\"font\":{\"color\":\"#2a3f5f\"},\"hovermode\":\"closest\",\"hoverlabel\":{\"align\":\"left\"},\"paper_bgcolor\":\"white\",\"plot_bgcolor\":\"#E5ECF6\",\"polar\":{\"bgcolor\":\"#E5ECF6\",\"angularaxis\":{\"gridcolor\":\"white\",\"linecolor\":\"white\",\"ticks\":\"\"},\"radialaxis\":{\"gridcolor\":\"white\",\"linecolor\":\"white\",\"ticks\":\"\"}},\"ternary\":{\"bgcolor\":\"#E5ECF6\",\"aaxis\":{\"gridcolor\":\"white\",\"linecolor\":\"white\",\"ticks\":\"\"},\"baxis\":{\"gridcolor\":\"white\",\"linecolor\":\"white\",\"ticks\":\"\"},\"caxis\":{\"gridcolor\":\"white\",\"linecolor\":\"white\",\"ticks\":\"\"}},\"coloraxis\":{\"colorbar\":{\"outlinewidth\":0,\"ticks\":\"\"}},\"colorscale\":{\"sequential\":[[0.0,\"#0d0887\"],[0.1111111111111111,\"#46039f\"],[0.2222222222222222,\"#7201a8\"],[0.3333333333333333,\"#9c179e\"],[0.4444444444444444,\"#bd3786\"],[0.5555555555555556,\"#d8576b\"],[0.6666666666666666,\"#ed7953\"],[0.7777777777777778,\"#fb9f3a\"],[0.8888888888888888,\"#fdca26\"],[1.0,\"#f0f921\"]],\"sequentialminus\":[[0.0,\"#0d0887\"],[0.1111111111111111,\"#46039f\"],[0.2222222222222222,\"#7201a8\"],[0.3333333333333333,\"#9c179e\"],[0.4444444444444444,\"#bd3786\"],[0.5555555555555556,\"#d8576b\"],[0.6666666666666666,\"#ed7953\"],[0.7777777777777778,\"#fb9f3a\"],[0.8888888888888888,\"#fdca26\"],[1.0,\"#f0f921\"]],\"diverging\":[[0,\"#8e0152\"],[0.1,\"#c51b7d\"],[0.2,\"#de77ae\"],[0.3,\"#f1b6da\"],[0.4,\"#fde0ef\"],[0.5,\"#f7f7f7\"],[0.6,\"#e6f5d0\"],[0.7,\"#b8e186\"],[0.8,\"#7fbc41\"],[0.9,\"#4d9221\"],[1,\"#276419\"]]},\"xaxis\":{\"gridcolor\":\"white\",\"linecolor\":\"white\",\"ticks\":\"\",\"title\":{\"standoff\":15},\"zerolinecolor\":\"white\",\"automargin\":true,\"zerolinewidth\":2},\"yaxis\":{\"gridcolor\":\"white\",\"linecolor\":\"white\",\"ticks\":\"\",\"title\":{\"standoff\":15},\"zerolinecolor\":\"white\",\"automargin\":true,\"zerolinewidth\":2},\"scene\":{\"xaxis\":{\"backgroundcolor\":\"#E5ECF6\",\"gridcolor\":\"white\",\"linecolor\":\"white\",\"showbackground\":true,\"ticks\":\"\",\"zerolinecolor\":\"white\",\"gridwidth\":2},\"yaxis\":{\"backgroundcolor\":\"#E5ECF6\",\"gridcolor\":\"white\",\"linecolor\":\"white\",\"showbackground\":true,\"ticks\":\"\",\"zerolinecolor\":\"white\",\"gridwidth\":2},\"zaxis\":{\"backgroundcolor\":\"#E5ECF6\",\"gridcolor\":\"white\",\"linecolor\":\"white\",\"showbackground\":true,\"ticks\":\"\",\"zerolinecolor\":\"white\",\"gridwidth\":2}},\"shapedefaults\":{\"line\":{\"color\":\"#2a3f5f\"}},\"annotationdefaults\":{\"arrowcolor\":\"#2a3f5f\",\"arrowhead\":0,\"arrowwidth\":1},\"geo\":{\"bgcolor\":\"white\",\"landcolor\":\"#E5ECF6\",\"subunitcolor\":\"white\",\"showland\":true,\"showlakes\":true,\"lakecolor\":\"white\"},\"title\":{\"x\":0.05},\"mapbox\":{\"style\":\"light\"}}},\"xaxis\":{\"anchor\":\"y\",\"domain\":[0.0,1.0],\"title\":{\"text\":\"Time (seconds)\"}},\"yaxis\":{\"anchor\":\"x\",\"domain\":[0.0,1.0],\"title\":{\"text\":\"Slippage\"}},\"legend\":{\"title\":{\"text\":\"side\"},\"tracegroupgap\":0},\"title\":{\"text\":\"Slippages over time\"}},                        {\"responsive\": true}                    ).then(function(){\n",
              "                            \n",
              "var gd = document.getElementById('ff5f34c0-96bf-4d36-8680-e6b58c407838');\n",
              "var x = new MutationObserver(function (mutations, observer) {{\n",
              "        var display = window.getComputedStyle(gd).display;\n",
              "        if (!display || display === 'none') {{\n",
              "            console.log([gd, 'removed!']);\n",
              "            Plotly.purge(gd);\n",
              "            observer.disconnect();\n",
              "        }}\n",
              "}});\n",
              "\n",
              "// Listen for the removal of the full notebook cells\n",
              "var notebookContainer = gd.closest('#notebook-container');\n",
              "if (notebookContainer) {{\n",
              "    x.observe(notebookContainer, {childList: true});\n",
              "}}\n",
              "\n",
              "// Listen for the clearing of the current output cell\n",
              "var outputEl = gd.closest('.output');\n",
              "if (outputEl) {{\n",
              "    x.observe(outputEl, {childList: true});\n",
              "}}\n",
              "\n",
              "                        })                };                            </script>        </div>\n",
              "</body>\n",
              "</html>"
            ]
          },
          "metadata": {}
        }
      ],
      "source": [
        "time_start = 1000\n",
        "time_sample = 60\n",
        "time_end = time_start+time_sample\n",
        "\n",
        "bids_slippages = slippages_data['bids'][time_start:time_end]\n",
        "asks_slippages = slippages_data['asks'][time_start:time_end]\n",
        "\n",
        "bids_sample_size = len(bids_slippages)\n",
        "asks_sample_size = len(asks_slippages)\n",
        "\n",
        "time = [t for t in range(time_start, time_end)]+[t for t in range(time_start, time_end)]\n",
        "slippages = bids_slippages + asks_slippages\n",
        "side = ['bid' for bid in bids_slippages] + ['ask' for ask in asks_slippages]\n",
        "\n",
        "d = { 'time': time, 'slippage': slippages, 'side': side }\n",
        "\n",
        "df = pd.DataFrame(data=d)\n",
        "\n",
        "fig = px.line(df, x='time', y='slippage', color='side', title='Slippages over time', labels = \n",
        "  {\n",
        "    'time':'Time (seconds)', 'slippage':'Slippage'\n",
        "  })\n",
        "fig.show()"
      ]
    },
    {
      "cell_type": "code",
      "source": [
        "time_samples = time_sample_range+time_sample_range\n",
        "percentage_means = bid_percentages_means + ask_percentages_means\n",
        "side = ['bid' for bid in bid_percentages_means] + ['ask' for ask in ask_percentages_means]\n",
        "\n",
        "d = { 'time_samples': time_samples, 'percentage_means': percentage_means, 'side': side }\n",
        "\n",
        "df = pd.DataFrame(data=d)\n",
        "\n",
        "fig = px.line(df, x='time_samples', y='percentage_means', color='side', title='Time Sample Percentage', labels = \n",
        "  {\n",
        "    'time_samples':'Time Sample (seconds)', 'percentage_means':'Percentage Mean', 'side': 'Side'\n",
        "  })\n",
        "fig.show()"
      ],
      "metadata": {
        "colab": {
          "base_uri": "https://localhost:8080/",
          "height": 542
        },
        "id": "kaTKM1yE7kxS",
        "outputId": "375542ac-a13e-47d4-966e-320c47b0b0b1"
      },
      "execution_count": null,
      "outputs": [
        {
          "output_type": "display_data",
          "data": {
            "text/html": [
              "<html>\n",
              "<head><meta charset=\"utf-8\" /></head>\n",
              "<body>\n",
              "    <div>            <script src=\"https://cdnjs.cloudflare.com/ajax/libs/mathjax/2.7.5/MathJax.js?config=TeX-AMS-MML_SVG\"></script><script type=\"text/javascript\">if (window.MathJax && window.MathJax.Hub && window.MathJax.Hub.Config) {window.MathJax.Hub.Config({SVG: {font: \"STIX-Web\"}});}</script>                <script type=\"text/javascript\">window.PlotlyConfig = {MathJaxConfig: 'local'};</script>\n",
              "        <script src=\"https://cdn.plot.ly/plotly-2.18.2.min.js\"></script>                <div id=\"02895230-b515-4d18-9ae2-d69a391a2f2f\" class=\"plotly-graph-div\" style=\"height:525px; width:100%;\"></div>            <script type=\"text/javascript\">                                    window.PLOTLYENV=window.PLOTLYENV || {};                                    if (document.getElementById(\"02895230-b515-4d18-9ae2-d69a391a2f2f\")) {                    Plotly.newPlot(                        \"02895230-b515-4d18-9ae2-d69a391a2f2f\",                        [{\"hovertemplate\":\"Side=bid<br>Time Sample (seconds)=%{x}<br>Percentage Mean=%{y}<extra></extra>\",\"legendgroup\":\"bid\",\"line\":{\"color\":\"#636efa\",\"dash\":\"solid\"},\"marker\":{\"symbol\":\"circle\"},\"mode\":\"lines\",\"name\":\"bid\",\"orientation\":\"v\",\"showlegend\":true,\"x\":[1,2,3,4,5,6,7,8,9,10,11,12,13,14,15,16,17,18,19,20,21,22,23,24,25,26,27,28,29,30,31,32,33,34,35,36,37,38,39,40,41,42,43,44,45,46,47,48,49,50,51,52,53,54,55,56,57,58,59,60,60,65,70,75,80,85,90,95,100,105,110,115,120,125,130,135,140,145,150,155,160,165,170,175,180,185,190,195,200,205,210,215,220,225,230,235,240,245,250,255,260,265,270,275,280,285,290,295],\"xaxis\":\"x\",\"y\":[0.3075,0.5777,0.6061999999999999,0.5227999999999997,0.4744,0.4476999999999998,0.39750000000000013,0.38349999999999995,0.37089999999999995,0.3699000000000001,0.38239999999999996,0.3708000000000002,0.38730000000000003,0.3798,0.3820999999999997,0.40080000000000005,0.40659999999999996,0.39419999999999994,0.3982,0.39460000000000006,0.3804999999999998,0.38400000000000006,0.3890000000000001,0.38830000000000003,0.3991000000000001,0.3948,0.40769999999999984,0.39520000000000005,0.39650000000000013,0.38710000000000006,0.39699999999999996,0.38910000000000017,0.3935,0.4030000000000003,0.41340000000000027,0.4083,0.4227000000000001,0.4336,0.43479999999999985,0.4280000000000001,0.42899999999999977,0.434,0.4256000000000001,0.4263999999999999,0.43279999999999974,0.42639999999999995,0.42239999999999983,0.4217000000000001,0.4255,0.42060000000000003,0.4264,0.4179999999999999,0.4134,0.42269999999999996,0.4246999999999999,0.4359,0.43290000000000006,0.4361999999999998,0.42649999999999993,0.42620000000000013,0.4329,0.43449999999999994,0.43849999999999995,0.42969999999999986,0.4332000000000001,0.4268,0.42820000000000014,0.42680000000000007,0.4237,0.42670000000000013,0.43499999999999994,0.4292,0.4271000000000001,0.42550000000000004,0.42459999999999964,0.41800000000000004,0.41389999999999977,0.406,0.41590000000000005,0.42249999999999993,0.4203,0.4263999999999999,0.4324000000000001,0.4455999999999997,0.4373999999999998,0.4320000000000001,0.4313000000000002,0.43660000000000027,0.43989999999999996,0.4367999999999998,0.43720000000000003,0.4454999999999998,0.4406999999999999,0.4377000000000002,0.4423,0.4332000000000001,0.4298999999999999,0.44279999999999986,0.4491999999999999,0.4342999999999999,0.44219999999999987,0.43729999999999997,0.4375,0.44949999999999973,0.44659999999999994,0.45890000000000014,0.4360999999999999,0.4436000000000002],\"yaxis\":\"y\",\"type\":\"scatter\"},{\"hovertemplate\":\"Side=ask<br>Time Sample (seconds)=%{x}<br>Percentage Mean=%{y}<extra></extra>\",\"legendgroup\":\"ask\",\"line\":{\"color\":\"#EF553B\",\"dash\":\"solid\"},\"marker\":{\"symbol\":\"circle\"},\"mode\":\"lines\",\"name\":\"ask\",\"orientation\":\"v\",\"showlegend\":true,\"x\":[1,2,3,4,5,6,7,8,9,10,11,12,13,14,15,16,17,18,19,20,21,22,23,24,25,26,27,28,29,30,31,32,33,34,35,36,37,38,39,40,41,42,43,44,45,46,47,48,49,50,51,52,53,54,55,56,57,58,59,60,60,65,70,75,80,85,90,95,100,105,110,115,120,125,130,135,140,145,150,155,160,165,170,175,180,185,190,195,200,205,210,215,220,225,230,235,240,245,250,255,260,265,270,275,280,285,290,295],\"xaxis\":\"x\",\"y\":[0.2846,0.6110000000000002,0.6432000000000001,0.5470000000000002,0.5142999999999999,0.4600000000000001,0.42529999999999996,0.40480000000000016,0.39129999999999987,0.3947999999999999,0.39050000000000007,0.38109999999999983,0.3655999999999999,0.35719999999999996,0.35600000000000004,0.35869999999999974,0.3687,0.3585999999999999,0.3628,0.3651000000000002,0.3698,0.37370000000000003,0.3883999999999999,0.3923,0.3787,0.3831999999999997,0.38730000000000003,0.38880000000000015,0.40240000000000004,0.4059999999999999,0.40230000000000005,0.40260000000000007,0.40300000000000014,0.40110000000000007,0.4144,0.3995999999999998,0.3933,0.4006000000000002,0.3926,0.40240000000000004,0.3893,0.3979000000000001,0.3932999999999998,0.39209999999999995,0.3904999999999999,0.3955,0.3979999999999999,0.4043999999999999,0.39459999999999995,0.38989999999999997,0.38799999999999996,0.38170000000000004,0.4010999999999999,0.4055999999999999,0.41599999999999987,0.405,0.4103,0.42219999999999985,0.4205000000000001,0.4269999999999999,0.42660000000000003,0.42829999999999985,0.4330000000000001,0.4154,0.41809999999999986,0.426,0.4192000000000002,0.4206999999999999,0.4179999999999998,0.39819999999999994,0.41120000000000007,0.4036,0.4030999999999999,0.4021,0.39189999999999986,0.40290000000000004,0.40179999999999993,0.40679999999999983,0.4105,0.4161000000000001,0.4104,0.4039,0.41120000000000007,0.4056,0.41370000000000007,0.4052,0.40659999999999996,0.4027999999999998,0.3997000000000001,0.40860000000000013,0.4167999999999997,0.39820000000000016,0.40049999999999975,0.3971,0.3997,0.3865999999999999,0.3872,0.4012999999999999,0.3878999999999998,0.36929999999999985,0.3717999999999999,0.37430000000000013,0.36970000000000014,0.37799999999999995,0.3861999999999998,0.3841000000000001,0.3832000000000001,0.3758000000000001],\"yaxis\":\"y\",\"type\":\"scatter\"}],                        {\"template\":{\"data\":{\"histogram2dcontour\":[{\"type\":\"histogram2dcontour\",\"colorbar\":{\"outlinewidth\":0,\"ticks\":\"\"},\"colorscale\":[[0.0,\"#0d0887\"],[0.1111111111111111,\"#46039f\"],[0.2222222222222222,\"#7201a8\"],[0.3333333333333333,\"#9c179e\"],[0.4444444444444444,\"#bd3786\"],[0.5555555555555556,\"#d8576b\"],[0.6666666666666666,\"#ed7953\"],[0.7777777777777778,\"#fb9f3a\"],[0.8888888888888888,\"#fdca26\"],[1.0,\"#f0f921\"]]}],\"choropleth\":[{\"type\":\"choropleth\",\"colorbar\":{\"outlinewidth\":0,\"ticks\":\"\"}}],\"histogram2d\":[{\"type\":\"histogram2d\",\"colorbar\":{\"outlinewidth\":0,\"ticks\":\"\"},\"colorscale\":[[0.0,\"#0d0887\"],[0.1111111111111111,\"#46039f\"],[0.2222222222222222,\"#7201a8\"],[0.3333333333333333,\"#9c179e\"],[0.4444444444444444,\"#bd3786\"],[0.5555555555555556,\"#d8576b\"],[0.6666666666666666,\"#ed7953\"],[0.7777777777777778,\"#fb9f3a\"],[0.8888888888888888,\"#fdca26\"],[1.0,\"#f0f921\"]]}],\"heatmap\":[{\"type\":\"heatmap\",\"colorbar\":{\"outlinewidth\":0,\"ticks\":\"\"},\"colorscale\":[[0.0,\"#0d0887\"],[0.1111111111111111,\"#46039f\"],[0.2222222222222222,\"#7201a8\"],[0.3333333333333333,\"#9c179e\"],[0.4444444444444444,\"#bd3786\"],[0.5555555555555556,\"#d8576b\"],[0.6666666666666666,\"#ed7953\"],[0.7777777777777778,\"#fb9f3a\"],[0.8888888888888888,\"#fdca26\"],[1.0,\"#f0f921\"]]}],\"heatmapgl\":[{\"type\":\"heatmapgl\",\"colorbar\":{\"outlinewidth\":0,\"ticks\":\"\"},\"colorscale\":[[0.0,\"#0d0887\"],[0.1111111111111111,\"#46039f\"],[0.2222222222222222,\"#7201a8\"],[0.3333333333333333,\"#9c179e\"],[0.4444444444444444,\"#bd3786\"],[0.5555555555555556,\"#d8576b\"],[0.6666666666666666,\"#ed7953\"],[0.7777777777777778,\"#fb9f3a\"],[0.8888888888888888,\"#fdca26\"],[1.0,\"#f0f921\"]]}],\"contourcarpet\":[{\"type\":\"contourcarpet\",\"colorbar\":{\"outlinewidth\":0,\"ticks\":\"\"}}],\"contour\":[{\"type\":\"contour\",\"colorbar\":{\"outlinewidth\":0,\"ticks\":\"\"},\"colorscale\":[[0.0,\"#0d0887\"],[0.1111111111111111,\"#46039f\"],[0.2222222222222222,\"#7201a8\"],[0.3333333333333333,\"#9c179e\"],[0.4444444444444444,\"#bd3786\"],[0.5555555555555556,\"#d8576b\"],[0.6666666666666666,\"#ed7953\"],[0.7777777777777778,\"#fb9f3a\"],[0.8888888888888888,\"#fdca26\"],[1.0,\"#f0f921\"]]}],\"surface\":[{\"type\":\"surface\",\"colorbar\":{\"outlinewidth\":0,\"ticks\":\"\"},\"colorscale\":[[0.0,\"#0d0887\"],[0.1111111111111111,\"#46039f\"],[0.2222222222222222,\"#7201a8\"],[0.3333333333333333,\"#9c179e\"],[0.4444444444444444,\"#bd3786\"],[0.5555555555555556,\"#d8576b\"],[0.6666666666666666,\"#ed7953\"],[0.7777777777777778,\"#fb9f3a\"],[0.8888888888888888,\"#fdca26\"],[1.0,\"#f0f921\"]]}],\"mesh3d\":[{\"type\":\"mesh3d\",\"colorbar\":{\"outlinewidth\":0,\"ticks\":\"\"}}],\"scatter\":[{\"fillpattern\":{\"fillmode\":\"overlay\",\"size\":10,\"solidity\":0.2},\"type\":\"scatter\"}],\"parcoords\":[{\"type\":\"parcoords\",\"line\":{\"colorbar\":{\"outlinewidth\":0,\"ticks\":\"\"}}}],\"scatterpolargl\":[{\"type\":\"scatterpolargl\",\"marker\":{\"colorbar\":{\"outlinewidth\":0,\"ticks\":\"\"}}}],\"bar\":[{\"error_x\":{\"color\":\"#2a3f5f\"},\"error_y\":{\"color\":\"#2a3f5f\"},\"marker\":{\"line\":{\"color\":\"#E5ECF6\",\"width\":0.5},\"pattern\":{\"fillmode\":\"overlay\",\"size\":10,\"solidity\":0.2}},\"type\":\"bar\"}],\"scattergeo\":[{\"type\":\"scattergeo\",\"marker\":{\"colorbar\":{\"outlinewidth\":0,\"ticks\":\"\"}}}],\"scatterpolar\":[{\"type\":\"scatterpolar\",\"marker\":{\"colorbar\":{\"outlinewidth\":0,\"ticks\":\"\"}}}],\"histogram\":[{\"marker\":{\"pattern\":{\"fillmode\":\"overlay\",\"size\":10,\"solidity\":0.2}},\"type\":\"histogram\"}],\"scattergl\":[{\"type\":\"scattergl\",\"marker\":{\"colorbar\":{\"outlinewidth\":0,\"ticks\":\"\"}}}],\"scatter3d\":[{\"type\":\"scatter3d\",\"line\":{\"colorbar\":{\"outlinewidth\":0,\"ticks\":\"\"}},\"marker\":{\"colorbar\":{\"outlinewidth\":0,\"ticks\":\"\"}}}],\"scattermapbox\":[{\"type\":\"scattermapbox\",\"marker\":{\"colorbar\":{\"outlinewidth\":0,\"ticks\":\"\"}}}],\"scatterternary\":[{\"type\":\"scatterternary\",\"marker\":{\"colorbar\":{\"outlinewidth\":0,\"ticks\":\"\"}}}],\"scattercarpet\":[{\"type\":\"scattercarpet\",\"marker\":{\"colorbar\":{\"outlinewidth\":0,\"ticks\":\"\"}}}],\"carpet\":[{\"aaxis\":{\"endlinecolor\":\"#2a3f5f\",\"gridcolor\":\"white\",\"linecolor\":\"white\",\"minorgridcolor\":\"white\",\"startlinecolor\":\"#2a3f5f\"},\"baxis\":{\"endlinecolor\":\"#2a3f5f\",\"gridcolor\":\"white\",\"linecolor\":\"white\",\"minorgridcolor\":\"white\",\"startlinecolor\":\"#2a3f5f\"},\"type\":\"carpet\"}],\"table\":[{\"cells\":{\"fill\":{\"color\":\"#EBF0F8\"},\"line\":{\"color\":\"white\"}},\"header\":{\"fill\":{\"color\":\"#C8D4E3\"},\"line\":{\"color\":\"white\"}},\"type\":\"table\"}],\"barpolar\":[{\"marker\":{\"line\":{\"color\":\"#E5ECF6\",\"width\":0.5},\"pattern\":{\"fillmode\":\"overlay\",\"size\":10,\"solidity\":0.2}},\"type\":\"barpolar\"}],\"pie\":[{\"automargin\":true,\"type\":\"pie\"}]},\"layout\":{\"autotypenumbers\":\"strict\",\"colorway\":[\"#636efa\",\"#EF553B\",\"#00cc96\",\"#ab63fa\",\"#FFA15A\",\"#19d3f3\",\"#FF6692\",\"#B6E880\",\"#FF97FF\",\"#FECB52\"],\"font\":{\"color\":\"#2a3f5f\"},\"hovermode\":\"closest\",\"hoverlabel\":{\"align\":\"left\"},\"paper_bgcolor\":\"white\",\"plot_bgcolor\":\"#E5ECF6\",\"polar\":{\"bgcolor\":\"#E5ECF6\",\"angularaxis\":{\"gridcolor\":\"white\",\"linecolor\":\"white\",\"ticks\":\"\"},\"radialaxis\":{\"gridcolor\":\"white\",\"linecolor\":\"white\",\"ticks\":\"\"}},\"ternary\":{\"bgcolor\":\"#E5ECF6\",\"aaxis\":{\"gridcolor\":\"white\",\"linecolor\":\"white\",\"ticks\":\"\"},\"baxis\":{\"gridcolor\":\"white\",\"linecolor\":\"white\",\"ticks\":\"\"},\"caxis\":{\"gridcolor\":\"white\",\"linecolor\":\"white\",\"ticks\":\"\"}},\"coloraxis\":{\"colorbar\":{\"outlinewidth\":0,\"ticks\":\"\"}},\"colorscale\":{\"sequential\":[[0.0,\"#0d0887\"],[0.1111111111111111,\"#46039f\"],[0.2222222222222222,\"#7201a8\"],[0.3333333333333333,\"#9c179e\"],[0.4444444444444444,\"#bd3786\"],[0.5555555555555556,\"#d8576b\"],[0.6666666666666666,\"#ed7953\"],[0.7777777777777778,\"#fb9f3a\"],[0.8888888888888888,\"#fdca26\"],[1.0,\"#f0f921\"]],\"sequentialminus\":[[0.0,\"#0d0887\"],[0.1111111111111111,\"#46039f\"],[0.2222222222222222,\"#7201a8\"],[0.3333333333333333,\"#9c179e\"],[0.4444444444444444,\"#bd3786\"],[0.5555555555555556,\"#d8576b\"],[0.6666666666666666,\"#ed7953\"],[0.7777777777777778,\"#fb9f3a\"],[0.8888888888888888,\"#fdca26\"],[1.0,\"#f0f921\"]],\"diverging\":[[0,\"#8e0152\"],[0.1,\"#c51b7d\"],[0.2,\"#de77ae\"],[0.3,\"#f1b6da\"],[0.4,\"#fde0ef\"],[0.5,\"#f7f7f7\"],[0.6,\"#e6f5d0\"],[0.7,\"#b8e186\"],[0.8,\"#7fbc41\"],[0.9,\"#4d9221\"],[1,\"#276419\"]]},\"xaxis\":{\"gridcolor\":\"white\",\"linecolor\":\"white\",\"ticks\":\"\",\"title\":{\"standoff\":15},\"zerolinecolor\":\"white\",\"automargin\":true,\"zerolinewidth\":2},\"yaxis\":{\"gridcolor\":\"white\",\"linecolor\":\"white\",\"ticks\":\"\",\"title\":{\"standoff\":15},\"zerolinecolor\":\"white\",\"automargin\":true,\"zerolinewidth\":2},\"scene\":{\"xaxis\":{\"backgroundcolor\":\"#E5ECF6\",\"gridcolor\":\"white\",\"linecolor\":\"white\",\"showbackground\":true,\"ticks\":\"\",\"zerolinecolor\":\"white\",\"gridwidth\":2},\"yaxis\":{\"backgroundcolor\":\"#E5ECF6\",\"gridcolor\":\"white\",\"linecolor\":\"white\",\"showbackground\":true,\"ticks\":\"\",\"zerolinecolor\":\"white\",\"gridwidth\":2},\"zaxis\":{\"backgroundcolor\":\"#E5ECF6\",\"gridcolor\":\"white\",\"linecolor\":\"white\",\"showbackground\":true,\"ticks\":\"\",\"zerolinecolor\":\"white\",\"gridwidth\":2}},\"shapedefaults\":{\"line\":{\"color\":\"#2a3f5f\"}},\"annotationdefaults\":{\"arrowcolor\":\"#2a3f5f\",\"arrowhead\":0,\"arrowwidth\":1},\"geo\":{\"bgcolor\":\"white\",\"landcolor\":\"#E5ECF6\",\"subunitcolor\":\"white\",\"showland\":true,\"showlakes\":true,\"lakecolor\":\"white\"},\"title\":{\"x\":0.05},\"mapbox\":{\"style\":\"light\"}}},\"xaxis\":{\"anchor\":\"y\",\"domain\":[0.0,1.0],\"title\":{\"text\":\"Time Sample (seconds)\"}},\"yaxis\":{\"anchor\":\"x\",\"domain\":[0.0,1.0],\"title\":{\"text\":\"Percentage Mean\"}},\"legend\":{\"title\":{\"text\":\"Side\"},\"tracegroupgap\":0},\"title\":{\"text\":\"Time Sample Percentage\"}},                        {\"responsive\": true}                    ).then(function(){\n",
              "                            \n",
              "var gd = document.getElementById('02895230-b515-4d18-9ae2-d69a391a2f2f');\n",
              "var x = new MutationObserver(function (mutations, observer) {{\n",
              "        var display = window.getComputedStyle(gd).display;\n",
              "        if (!display || display === 'none') {{\n",
              "            console.log([gd, 'removed!']);\n",
              "            Plotly.purge(gd);\n",
              "            observer.disconnect();\n",
              "        }}\n",
              "}});\n",
              "\n",
              "// Listen for the removal of the full notebook cells\n",
              "var notebookContainer = gd.closest('#notebook-container');\n",
              "if (notebookContainer) {{\n",
              "    x.observe(notebookContainer, {childList: true});\n",
              "}}\n",
              "\n",
              "// Listen for the clearing of the current output cell\n",
              "var outputEl = gd.closest('.output');\n",
              "if (outputEl) {{\n",
              "    x.observe(outputEl, {childList: true});\n",
              "}}\n",
              "\n",
              "                        })                };                            </script>        </div>\n",
              "</body>\n",
              "</html>"
            ]
          },
          "metadata": {}
        }
      ]
    }
  ]
}